{
  "cells": [
    {
      "cell_type": "markdown",
      "source": [
        "# **Norm of Vector**"
      ],
      "metadata": {
        "id": "CmanErQ76ule"
      },
      "id": "CmanErQ76ule"
    },
    {
      "cell_type": "markdown",
      "source": [
        "![](https://mathsimulationtechnology.files.wordpress.com/2012/02/la_r2vector_length.jpg?w=298&h=285)"
      ],
      "metadata": {
        "id": "aesf2WOd0b0I"
      },
      "id": "aesf2WOd0b0I"
    },
    {
      "cell_type": "markdown",
      "source": [
        "### You will work with a simple data set that contains the sales in a particular year of various sanitizers. you will perform the following tasks:\n",
        "\n",
        "- Load and study the data\n",
        "- Extract vectors from the data\n",
        "- Calculate norms of vectors\n",
        "- Print a sorted list of store IDs in terms of their sales of sanitizers\n",
        "- Print a sorted list of sanitizers in terms of their popularity\n",
        "- Create a function to calculate the norm of the difference of two vectors\n",
        "- Create a function that returns the ID of the store with the most similar sales as a given store\n",
        "- Create a function that returns the name of a sanitizer with the most similar sales as a given sanitizer\n"
      ],
      "metadata": {
        "id": "H0jqHwhW61wE"
      },
      "id": "H0jqHwhW61wE"
    },
    {
      "cell_type": "markdown",
      "source": [
        "## Task 1 - Load and study the data"
      ],
      "metadata": {
        "id": "UmGbDzGe7JgL"
      },
      "id": "UmGbDzGe7JgL"
    },
    {
      "cell_type": "code",
      "execution_count": 2,
      "id": "9f5c393c",
      "metadata": {
        "id": "9f5c393c"
      },
      "outputs": [],
      "source": [
        "import numpy as np\n",
        "import pandas as pd"
      ]
    },
    {
      "cell_type": "code",
      "execution_count": 3,
      "id": "5608a781",
      "metadata": {
        "id": "5608a781"
      },
      "outputs": [],
      "source": [
        "df = pd.read_csv('/content/Store_Sanitizer_Sales.csv', index_col = 0)"
      ]
    },
    {
      "cell_type": "code",
      "execution_count": 4,
      "id": "159a97da",
      "metadata": {
        "id": "159a97da",
        "outputId": "bfaf77c5-4352-4a22-99b4-8cea86451173",
        "colab": {
          "base_uri": "https://localhost:8080/",
          "height": 237
        }
      },
      "outputs": [
        {
          "output_type": "execute_result",
          "data": {
            "text/plain": [
              "          Dettol  Savlon  Himalaya  Lifebuoy  Kaya  Godrej  Dabur\n",
              "Store ID                                                         \n",
              "AMD463       8.4     6.5       9.8       5.8   3.2     7.1    3.5\n",
              "BGL198       7.3     8.1      10.5       9.1   4.1     3.8    4.0\n",
              "CXF008       9.2    10.2       8.6      10.0   4.2     5.6    2.8\n",
              "DRH187      11.5     7.1       8.9       8.4   5.0     6.1    4.6\n",
              "EWO651       7.4     6.9      10.0       5.8   3.7     8.2    4.5"
            ],
            "text/html": [
              "\n",
              "  <div id=\"df-6b5a5629-a84f-42e3-b4dc-29b0c08b18cd\">\n",
              "    <div class=\"colab-df-container\">\n",
              "      <div>\n",
              "<style scoped>\n",
              "    .dataframe tbody tr th:only-of-type {\n",
              "        vertical-align: middle;\n",
              "    }\n",
              "\n",
              "    .dataframe tbody tr th {\n",
              "        vertical-align: top;\n",
              "    }\n",
              "\n",
              "    .dataframe thead th {\n",
              "        text-align: right;\n",
              "    }\n",
              "</style>\n",
              "<table border=\"1\" class=\"dataframe\">\n",
              "  <thead>\n",
              "    <tr style=\"text-align: right;\">\n",
              "      <th></th>\n",
              "      <th>Dettol</th>\n",
              "      <th>Savlon</th>\n",
              "      <th>Himalaya</th>\n",
              "      <th>Lifebuoy</th>\n",
              "      <th>Kaya</th>\n",
              "      <th>Godrej</th>\n",
              "      <th>Dabur</th>\n",
              "    </tr>\n",
              "    <tr>\n",
              "      <th>Store ID</th>\n",
              "      <th></th>\n",
              "      <th></th>\n",
              "      <th></th>\n",
              "      <th></th>\n",
              "      <th></th>\n",
              "      <th></th>\n",
              "      <th></th>\n",
              "    </tr>\n",
              "  </thead>\n",
              "  <tbody>\n",
              "    <tr>\n",
              "      <th>AMD463</th>\n",
              "      <td>8.4</td>\n",
              "      <td>6.5</td>\n",
              "      <td>9.8</td>\n",
              "      <td>5.8</td>\n",
              "      <td>3.2</td>\n",
              "      <td>7.1</td>\n",
              "      <td>3.5</td>\n",
              "    </tr>\n",
              "    <tr>\n",
              "      <th>BGL198</th>\n",
              "      <td>7.3</td>\n",
              "      <td>8.1</td>\n",
              "      <td>10.5</td>\n",
              "      <td>9.1</td>\n",
              "      <td>4.1</td>\n",
              "      <td>3.8</td>\n",
              "      <td>4.0</td>\n",
              "    </tr>\n",
              "    <tr>\n",
              "      <th>CXF008</th>\n",
              "      <td>9.2</td>\n",
              "      <td>10.2</td>\n",
              "      <td>8.6</td>\n",
              "      <td>10.0</td>\n",
              "      <td>4.2</td>\n",
              "      <td>5.6</td>\n",
              "      <td>2.8</td>\n",
              "    </tr>\n",
              "    <tr>\n",
              "      <th>DRH187</th>\n",
              "      <td>11.5</td>\n",
              "      <td>7.1</td>\n",
              "      <td>8.9</td>\n",
              "      <td>8.4</td>\n",
              "      <td>5.0</td>\n",
              "      <td>6.1</td>\n",
              "      <td>4.6</td>\n",
              "    </tr>\n",
              "    <tr>\n",
              "      <th>EWO651</th>\n",
              "      <td>7.4</td>\n",
              "      <td>6.9</td>\n",
              "      <td>10.0</td>\n",
              "      <td>5.8</td>\n",
              "      <td>3.7</td>\n",
              "      <td>8.2</td>\n",
              "      <td>4.5</td>\n",
              "    </tr>\n",
              "  </tbody>\n",
              "</table>\n",
              "</div>\n",
              "      <button class=\"colab-df-convert\" onclick=\"convertToInteractive('df-6b5a5629-a84f-42e3-b4dc-29b0c08b18cd')\"\n",
              "              title=\"Convert this dataframe to an interactive table.\"\n",
              "              style=\"display:none;\">\n",
              "        \n",
              "  <svg xmlns=\"http://www.w3.org/2000/svg\" height=\"24px\"viewBox=\"0 0 24 24\"\n",
              "       width=\"24px\">\n",
              "    <path d=\"M0 0h24v24H0V0z\" fill=\"none\"/>\n",
              "    <path d=\"M18.56 5.44l.94 2.06.94-2.06 2.06-.94-2.06-.94-.94-2.06-.94 2.06-2.06.94zm-11 1L8.5 8.5l.94-2.06 2.06-.94-2.06-.94L8.5 2.5l-.94 2.06-2.06.94zm10 10l.94 2.06.94-2.06 2.06-.94-2.06-.94-.94-2.06-.94 2.06-2.06.94z\"/><path d=\"M17.41 7.96l-1.37-1.37c-.4-.4-.92-.59-1.43-.59-.52 0-1.04.2-1.43.59L10.3 9.45l-7.72 7.72c-.78.78-.78 2.05 0 2.83L4 21.41c.39.39.9.59 1.41.59.51 0 1.02-.2 1.41-.59l7.78-7.78 2.81-2.81c.8-.78.8-2.07 0-2.86zM5.41 20L4 18.59l7.72-7.72 1.47 1.35L5.41 20z\"/>\n",
              "  </svg>\n",
              "      </button>\n",
              "      \n",
              "  <style>\n",
              "    .colab-df-container {\n",
              "      display:flex;\n",
              "      flex-wrap:wrap;\n",
              "      gap: 12px;\n",
              "    }\n",
              "\n",
              "    .colab-df-convert {\n",
              "      background-color: #E8F0FE;\n",
              "      border: none;\n",
              "      border-radius: 50%;\n",
              "      cursor: pointer;\n",
              "      display: none;\n",
              "      fill: #1967D2;\n",
              "      height: 32px;\n",
              "      padding: 0 0 0 0;\n",
              "      width: 32px;\n",
              "    }\n",
              "\n",
              "    .colab-df-convert:hover {\n",
              "      background-color: #E2EBFA;\n",
              "      box-shadow: 0px 1px 2px rgba(60, 64, 67, 0.3), 0px 1px 3px 1px rgba(60, 64, 67, 0.15);\n",
              "      fill: #174EA6;\n",
              "    }\n",
              "\n",
              "    [theme=dark] .colab-df-convert {\n",
              "      background-color: #3B4455;\n",
              "      fill: #D2E3FC;\n",
              "    }\n",
              "\n",
              "    [theme=dark] .colab-df-convert:hover {\n",
              "      background-color: #434B5C;\n",
              "      box-shadow: 0px 1px 3px 1px rgba(0, 0, 0, 0.15);\n",
              "      filter: drop-shadow(0px 1px 2px rgba(0, 0, 0, 0.3));\n",
              "      fill: #FFFFFF;\n",
              "    }\n",
              "  </style>\n",
              "\n",
              "      <script>\n",
              "        const buttonEl =\n",
              "          document.querySelector('#df-6b5a5629-a84f-42e3-b4dc-29b0c08b18cd button.colab-df-convert');\n",
              "        buttonEl.style.display =\n",
              "          google.colab.kernel.accessAllowed ? 'block' : 'none';\n",
              "\n",
              "        async function convertToInteractive(key) {\n",
              "          const element = document.querySelector('#df-6b5a5629-a84f-42e3-b4dc-29b0c08b18cd');\n",
              "          const dataTable =\n",
              "            await google.colab.kernel.invokeFunction('convertToInteractive',\n",
              "                                                     [key], {});\n",
              "          if (!dataTable) return;\n",
              "\n",
              "          const docLinkHtml = 'Like what you see? Visit the ' +\n",
              "            '<a target=\"_blank\" href=https://colab.research.google.com/notebooks/data_table.ipynb>data table notebook</a>'\n",
              "            + ' to learn more about interactive tables.';\n",
              "          element.innerHTML = '';\n",
              "          dataTable['output_type'] = 'display_data';\n",
              "          await google.colab.output.renderOutput(dataTable, element);\n",
              "          const docLink = document.createElement('div');\n",
              "          docLink.innerHTML = docLinkHtml;\n",
              "          element.appendChild(docLink);\n",
              "        }\n",
              "      </script>\n",
              "    </div>\n",
              "  </div>\n",
              "  "
            ]
          },
          "metadata": {},
          "execution_count": 4
        }
      ],
      "source": [
        "df.head()"
      ]
    },
    {
      "cell_type": "markdown",
      "source": [
        "#### Feature Description:\n",
        "- The data set contains sales values of sanitizers in various stores.\n",
        "- The sales values are in millions of units sold in the previous year.\n",
        "- Each row contains the sales values of all the sanitizers for a particular store.\n",
        "- Each column contains the sales values of a particular sanitizer in all the stores."
      ],
      "metadata": {
        "id": "YqDl0yUR7Zn2"
      },
      "id": "YqDl0yUR7Zn2"
    },
    {
      "cell_type": "markdown",
      "source": [
        "#### study its features such as:\n",
        "- The number of stores\n",
        "- The number of sanitizers\n",
        "- The ranges of sales"
      ],
      "metadata": {
        "id": "gp797exa7Qvv"
      },
      "id": "gp797exa7Qvv"
    },
    {
      "cell_type": "code",
      "execution_count": 5,
      "id": "5b5bb00f",
      "metadata": {
        "id": "5b5bb00f",
        "outputId": "7c2bfac7-04df-44ff-988c-b8ecfae6290a",
        "colab": {
          "base_uri": "https://localhost:8080/"
        }
      },
      "outputs": [
        {
          "output_type": "execute_result",
          "data": {
            "text/plain": [
              "(15, 7)"
            ]
          },
          "metadata": {},
          "execution_count": 5
        }
      ],
      "source": [
        "df.shape"
      ]
    },
    {
      "cell_type": "code",
      "execution_count": 6,
      "id": "a6b34a1e",
      "metadata": {
        "id": "a6b34a1e",
        "outputId": "69089390-cf1f-4e9b-f7f6-8d065ca43766",
        "colab": {
          "base_uri": "https://localhost:8080/"
        }
      },
      "outputs": [
        {
          "output_type": "stream",
          "name": "stdout",
          "text": [
            "<class 'pandas.core.frame.DataFrame'>\n",
            "Index: 15 entries, AMD463 to OEP108\n",
            "Data columns (total 7 columns):\n",
            " #   Column    Non-Null Count  Dtype  \n",
            "---  ------    --------------  -----  \n",
            " 0   Dettol    15 non-null     float64\n",
            " 1   Savlon    15 non-null     float64\n",
            " 2   Himalaya  15 non-null     float64\n",
            " 3   Lifebuoy  15 non-null     float64\n",
            " 4   Kaya      15 non-null     float64\n",
            " 5   Godrej    15 non-null     float64\n",
            " 6   Dabur     15 non-null     float64\n",
            "dtypes: float64(7)\n",
            "memory usage: 960.0+ bytes\n"
          ]
        }
      ],
      "source": [
        "df.info()"
      ]
    },
    {
      "cell_type": "code",
      "execution_count": 7,
      "id": "f0bbb65b",
      "metadata": {
        "id": "f0bbb65b",
        "outputId": "b6f12887-c469-47e2-c715-ca08f701fd13",
        "colab": {
          "base_uri": "https://localhost:8080/",
          "height": 269
        }
      },
      "outputs": [
        {
          "output_type": "execute_result",
          "data": {
            "text/plain": [
              "          count       mean       std  min   25%  50%    75%   max\n",
              "Dettol     15.0   9.293333  2.095392  5.4  7.70  9.2  10.95  12.5\n",
              "Savlon     15.0   7.953333  1.473027  5.8  6.95  7.8   8.30  11.0\n",
              "Himalaya   15.0  10.140000  2.422749  7.0  8.75  9.8  10.60  16.3\n",
              "Lifebuoy   15.0   7.580000  1.721793  4.8  5.95  7.9   8.90  10.1\n",
              "Kaya       15.0   4.806667  0.964711  3.2  4.05  4.9   5.55   6.5\n",
              "Godrej     15.0   4.673333  2.272653  1.6  2.90  3.8   6.60   8.2\n",
              "Dabur      15.0   4.833333  1.405432  2.7  4.00  4.6   5.55   7.5"
            ],
            "text/html": [
              "\n",
              "  <div id=\"df-ef7b6f6e-3753-4060-8356-a16461d4b3ae\">\n",
              "    <div class=\"colab-df-container\">\n",
              "      <div>\n",
              "<style scoped>\n",
              "    .dataframe tbody tr th:only-of-type {\n",
              "        vertical-align: middle;\n",
              "    }\n",
              "\n",
              "    .dataframe tbody tr th {\n",
              "        vertical-align: top;\n",
              "    }\n",
              "\n",
              "    .dataframe thead th {\n",
              "        text-align: right;\n",
              "    }\n",
              "</style>\n",
              "<table border=\"1\" class=\"dataframe\">\n",
              "  <thead>\n",
              "    <tr style=\"text-align: right;\">\n",
              "      <th></th>\n",
              "      <th>count</th>\n",
              "      <th>mean</th>\n",
              "      <th>std</th>\n",
              "      <th>min</th>\n",
              "      <th>25%</th>\n",
              "      <th>50%</th>\n",
              "      <th>75%</th>\n",
              "      <th>max</th>\n",
              "    </tr>\n",
              "  </thead>\n",
              "  <tbody>\n",
              "    <tr>\n",
              "      <th>Dettol</th>\n",
              "      <td>15.0</td>\n",
              "      <td>9.293333</td>\n",
              "      <td>2.095392</td>\n",
              "      <td>5.4</td>\n",
              "      <td>7.70</td>\n",
              "      <td>9.2</td>\n",
              "      <td>10.95</td>\n",
              "      <td>12.5</td>\n",
              "    </tr>\n",
              "    <tr>\n",
              "      <th>Savlon</th>\n",
              "      <td>15.0</td>\n",
              "      <td>7.953333</td>\n",
              "      <td>1.473027</td>\n",
              "      <td>5.8</td>\n",
              "      <td>6.95</td>\n",
              "      <td>7.8</td>\n",
              "      <td>8.30</td>\n",
              "      <td>11.0</td>\n",
              "    </tr>\n",
              "    <tr>\n",
              "      <th>Himalaya</th>\n",
              "      <td>15.0</td>\n",
              "      <td>10.140000</td>\n",
              "      <td>2.422749</td>\n",
              "      <td>7.0</td>\n",
              "      <td>8.75</td>\n",
              "      <td>9.8</td>\n",
              "      <td>10.60</td>\n",
              "      <td>16.3</td>\n",
              "    </tr>\n",
              "    <tr>\n",
              "      <th>Lifebuoy</th>\n",
              "      <td>15.0</td>\n",
              "      <td>7.580000</td>\n",
              "      <td>1.721793</td>\n",
              "      <td>4.8</td>\n",
              "      <td>5.95</td>\n",
              "      <td>7.9</td>\n",
              "      <td>8.90</td>\n",
              "      <td>10.1</td>\n",
              "    </tr>\n",
              "    <tr>\n",
              "      <th>Kaya</th>\n",
              "      <td>15.0</td>\n",
              "      <td>4.806667</td>\n",
              "      <td>0.964711</td>\n",
              "      <td>3.2</td>\n",
              "      <td>4.05</td>\n",
              "      <td>4.9</td>\n",
              "      <td>5.55</td>\n",
              "      <td>6.5</td>\n",
              "    </tr>\n",
              "    <tr>\n",
              "      <th>Godrej</th>\n",
              "      <td>15.0</td>\n",
              "      <td>4.673333</td>\n",
              "      <td>2.272653</td>\n",
              "      <td>1.6</td>\n",
              "      <td>2.90</td>\n",
              "      <td>3.8</td>\n",
              "      <td>6.60</td>\n",
              "      <td>8.2</td>\n",
              "    </tr>\n",
              "    <tr>\n",
              "      <th>Dabur</th>\n",
              "      <td>15.0</td>\n",
              "      <td>4.833333</td>\n",
              "      <td>1.405432</td>\n",
              "      <td>2.7</td>\n",
              "      <td>4.00</td>\n",
              "      <td>4.6</td>\n",
              "      <td>5.55</td>\n",
              "      <td>7.5</td>\n",
              "    </tr>\n",
              "  </tbody>\n",
              "</table>\n",
              "</div>\n",
              "      <button class=\"colab-df-convert\" onclick=\"convertToInteractive('df-ef7b6f6e-3753-4060-8356-a16461d4b3ae')\"\n",
              "              title=\"Convert this dataframe to an interactive table.\"\n",
              "              style=\"display:none;\">\n",
              "        \n",
              "  <svg xmlns=\"http://www.w3.org/2000/svg\" height=\"24px\"viewBox=\"0 0 24 24\"\n",
              "       width=\"24px\">\n",
              "    <path d=\"M0 0h24v24H0V0z\" fill=\"none\"/>\n",
              "    <path d=\"M18.56 5.44l.94 2.06.94-2.06 2.06-.94-2.06-.94-.94-2.06-.94 2.06-2.06.94zm-11 1L8.5 8.5l.94-2.06 2.06-.94-2.06-.94L8.5 2.5l-.94 2.06-2.06.94zm10 10l.94 2.06.94-2.06 2.06-.94-2.06-.94-.94-2.06-.94 2.06-2.06.94z\"/><path d=\"M17.41 7.96l-1.37-1.37c-.4-.4-.92-.59-1.43-.59-.52 0-1.04.2-1.43.59L10.3 9.45l-7.72 7.72c-.78.78-.78 2.05 0 2.83L4 21.41c.39.39.9.59 1.41.59.51 0 1.02-.2 1.41-.59l7.78-7.78 2.81-2.81c.8-.78.8-2.07 0-2.86zM5.41 20L4 18.59l7.72-7.72 1.47 1.35L5.41 20z\"/>\n",
              "  </svg>\n",
              "      </button>\n",
              "      \n",
              "  <style>\n",
              "    .colab-df-container {\n",
              "      display:flex;\n",
              "      flex-wrap:wrap;\n",
              "      gap: 12px;\n",
              "    }\n",
              "\n",
              "    .colab-df-convert {\n",
              "      background-color: #E8F0FE;\n",
              "      border: none;\n",
              "      border-radius: 50%;\n",
              "      cursor: pointer;\n",
              "      display: none;\n",
              "      fill: #1967D2;\n",
              "      height: 32px;\n",
              "      padding: 0 0 0 0;\n",
              "      width: 32px;\n",
              "    }\n",
              "\n",
              "    .colab-df-convert:hover {\n",
              "      background-color: #E2EBFA;\n",
              "      box-shadow: 0px 1px 2px rgba(60, 64, 67, 0.3), 0px 1px 3px 1px rgba(60, 64, 67, 0.15);\n",
              "      fill: #174EA6;\n",
              "    }\n",
              "\n",
              "    [theme=dark] .colab-df-convert {\n",
              "      background-color: #3B4455;\n",
              "      fill: #D2E3FC;\n",
              "    }\n",
              "\n",
              "    [theme=dark] .colab-df-convert:hover {\n",
              "      background-color: #434B5C;\n",
              "      box-shadow: 0px 1px 3px 1px rgba(0, 0, 0, 0.15);\n",
              "      filter: drop-shadow(0px 1px 2px rgba(0, 0, 0, 0.3));\n",
              "      fill: #FFFFFF;\n",
              "    }\n",
              "  </style>\n",
              "\n",
              "      <script>\n",
              "        const buttonEl =\n",
              "          document.querySelector('#df-ef7b6f6e-3753-4060-8356-a16461d4b3ae button.colab-df-convert');\n",
              "        buttonEl.style.display =\n",
              "          google.colab.kernel.accessAllowed ? 'block' : 'none';\n",
              "\n",
              "        async function convertToInteractive(key) {\n",
              "          const element = document.querySelector('#df-ef7b6f6e-3753-4060-8356-a16461d4b3ae');\n",
              "          const dataTable =\n",
              "            await google.colab.kernel.invokeFunction('convertToInteractive',\n",
              "                                                     [key], {});\n",
              "          if (!dataTable) return;\n",
              "\n",
              "          const docLinkHtml = 'Like what you see? Visit the ' +\n",
              "            '<a target=\"_blank\" href=https://colab.research.google.com/notebooks/data_table.ipynb>data table notebook</a>'\n",
              "            + ' to learn more about interactive tables.';\n",
              "          element.innerHTML = '';\n",
              "          dataTable['output_type'] = 'display_data';\n",
              "          await google.colab.output.renderOutput(dataTable, element);\n",
              "          const docLink = document.createElement('div');\n",
              "          docLink.innerHTML = docLinkHtml;\n",
              "          element.appendChild(docLink);\n",
              "        }\n",
              "      </script>\n",
              "    </div>\n",
              "  </div>\n",
              "  "
            ]
          },
          "metadata": {},
          "execution_count": 7
        }
      ],
      "source": [
        "df.describe().transpose()"
      ]
    },
    {
      "cell_type": "markdown",
      "source": [
        "#### Observations\n",
        "\n",
        "- There are 15 rows and 7 columns in the data\n",
        "- Each row corresponds to the sales values of different sanitizers of a particular store\n",
        "- Each column corresponds to the sales values of a particular sanitizer in different stores\n",
        "- The sales values range from 1.6 to 16.3 million units"
      ],
      "metadata": {
        "id": "2u91urlc9Okf"
      },
      "id": "2u91urlc9Okf"
    },
    {
      "cell_type": "markdown",
      "source": [
        "## Task 2 - Extract vectors from the data"
      ],
      "metadata": {
        "id": "yyKD4t_N9WpT"
      },
      "id": "yyKD4t_N9WpT"
    },
    {
      "cell_type": "markdown",
      "source": [
        "- You have seen that there are two types of vectors that we can extract from the data:\n",
        "- Row vectors - these contain the sales values of different sanitizers of a particular store\n",
        "- Column vectors - these contain the sales values of a particular sanitizer in different stores"
      ],
      "metadata": {
        "id": "BxtIDHwI9cZC"
      },
      "id": "BxtIDHwI9cZC"
    },
    {
      "cell_type": "code",
      "execution_count": 8,
      "id": "465e4d19",
      "metadata": {
        "id": "465e4d19",
        "outputId": "c1c379df-7dd7-48ec-ba41-cdfe9b28fc29",
        "colab": {
          "base_uri": "https://localhost:8080/"
        }
      },
      "outputs": [
        {
          "output_type": "execute_result",
          "data": {
            "text/plain": [
              "Dettol      11.5\n",
              "Savlon       7.1\n",
              "Himalaya     8.9\n",
              "Lifebuoy     8.4\n",
              "Kaya         5.0\n",
              "Godrej       6.1\n",
              "Dabur        4.6\n",
              "Name: DRH187, dtype: float64"
            ]
          },
          "metadata": {},
          "execution_count": 8
        }
      ],
      "source": [
        "# Access the row vector for the store with ID \"DRH187\" using \".loc[]\"\n",
        "df.loc['DRH187']"
      ]
    },
    {
      "cell_type": "code",
      "execution_count": 9,
      "id": "c13b04ae",
      "metadata": {
        "id": "c13b04ae",
        "outputId": "607a316e-89dc-4d20-9237-38fe2176f844",
        "colab": {
          "base_uri": "https://localhost:8080/"
        }
      },
      "outputs": [
        {
          "output_type": "execute_result",
          "data": {
            "text/plain": [
              "Dettol      5.4\n",
              "Savlon      6.8\n",
              "Himalaya    8.9\n",
              "Lifebuoy    8.2\n",
              "Kaya        4.0\n",
              "Godrej      8.2\n",
              "Dabur       2.7\n",
              "Name: LXM794, dtype: float64"
            ]
          },
          "metadata": {},
          "execution_count": 9
        }
      ],
      "source": [
        "# Access the row vector for the store with ID \"LXM794\" using \".loc[]\"\n",
        "df.loc['LXM794']"
      ]
    },
    {
      "cell_type": "code",
      "execution_count": 10,
      "id": "6a6d0511",
      "metadata": {
        "id": "6a6d0511",
        "outputId": "30723289-6158-431f-84d0-0488d7399757",
        "colab": {
          "base_uri": "https://localhost:8080/"
        }
      },
      "outputs": [
        {
          "output_type": "execute_result",
          "data": {
            "text/plain": [
              "Store ID\n",
              "AMD463     8.4\n",
              "BGL198     7.3\n",
              "CXF008     9.2\n",
              "DRH187    11.5\n",
              "EWO651     7.4\n",
              "FLJ843    12.1\n",
              "GKM230     8.0\n",
              "HRT117    10.4\n",
              "IDT818     8.8\n",
              "JRB076     6.9\n",
              "KTG143    11.5\n",
              "LXM794     5.4\n",
              "MRN637    12.5\n",
              "NGP835     9.7\n",
              "OEP108    10.3\n",
              "Name: Dettol, dtype: float64"
            ]
          },
          "metadata": {},
          "execution_count": 10
        }
      ],
      "source": [
        "# Access the column vector for the sanitizer \"Dettol\"\n",
        "# Note: You may access column vectors either directly or using \".loc[]\"\n",
        "df['Dettol']"
      ]
    },
    {
      "cell_type": "code",
      "execution_count": 11,
      "id": "af283d1b",
      "metadata": {
        "id": "af283d1b",
        "outputId": "544a1e93-6c5c-4c1c-ca46-70ebe1c022c4",
        "colab": {
          "base_uri": "https://localhost:8080/"
        }
      },
      "outputs": [
        {
          "output_type": "execute_result",
          "data": {
            "text/plain": [
              "Store ID\n",
              "AMD463    3.2\n",
              "BGL198    4.1\n",
              "CXF008    4.2\n",
              "DRH187    5.0\n",
              "EWO651    3.7\n",
              "FLJ843    5.6\n",
              "GKM230    3.7\n",
              "HRT117    4.8\n",
              "IDT818    6.1\n",
              "JRB076    4.9\n",
              "KTG143    5.5\n",
              "LXM794    4.0\n",
              "MRN637    6.5\n",
              "NGP835    5.2\n",
              "OEP108    5.6\n",
              "Name: Kaya, dtype: float64"
            ]
          },
          "metadata": {},
          "execution_count": 11
        }
      ],
      "source": [
        "# Access the column vector for the sanitizer \"Kaya\"\n",
        "df['Kaya']"
      ]
    },
    {
      "cell_type": "markdown",
      "source": [
        "#### Observations\n",
        "\n",
        "- There are two types of vectors that we can work with:\n",
        "- The sales values of different sanitizers of a particular store (row vectors)\n",
        "- Note: These are 7-long since there are 7 sanitizers in the data set\n",
        "- The sales values of a particular sanitizer in different stores (column vectors)\n",
        "- Note: These are 15-long since there are 15 stores in the data set"
      ],
      "metadata": {
        "id": "fMy2Zr5W9jCK"
      },
      "id": "fMy2Zr5W9jCK"
    },
    {
      "cell_type": "markdown",
      "source": [
        "## Task 3 - Calculate norms of vectors"
      ],
      "metadata": {
        "id": "2ajxG3jd9rBj"
      },
      "id": "2ajxG3jd9rBj"
    },
    {
      "cell_type": "markdown",
      "source": [
        "- To perform the tasks in this exercise, we will use metrics that are derived from norms of vectors\n",
        "- So, let's get comfortable with calculating norms using Numpy"
      ],
      "metadata": {
        "id": "5ublDxkZ9xIf"
      },
      "id": "5ublDxkZ9xIf"
    },
    {
      "cell_type": "code",
      "execution_count": 13,
      "id": "94e79388",
      "metadata": {
        "id": "94e79388",
        "outputId": "52b8b66f-b8f8-42b1-e1cb-39879e28a46f",
        "colab": {
          "base_uri": "https://localhost:8080/"
        }
      },
      "outputs": [
        {
          "output_type": "execute_result",
          "data": {
            "text/plain": [
              "18.379336223052235"
            ]
          },
          "metadata": {},
          "execution_count": 13
        }
      ],
      "source": [
        "# Calculate the norm of the row vector for the store with ID \"GKM230\" using \"np.linalg.norm()\"\n",
        "# Note: Leave all parameters as default except the input vector\n",
        "np.linalg.norm(df.loc['GKM230'])\n"
      ]
    },
    {
      "cell_type": "code",
      "execution_count": 14,
      "id": "bdb607c8",
      "metadata": {
        "id": "bdb607c8",
        "outputId": "cb8eda39-eeaa-4ce2-97e6-fba24b61ffde",
        "colab": {
          "base_uri": "https://localhost:8080/"
        }
      },
      "outputs": [
        {
          "output_type": "execute_result",
          "data": {
            "text/plain": [
              "18.379336223052235"
            ]
          },
          "metadata": {},
          "execution_count": 14
        }
      ],
      "source": [
        "# Calculate the L2 norm of the row vector for the store with ID \"GKM230\" using \"np.linalg.norm()\"\n",
        "# Note: This time, specify \"ord = 2\" as one of the parameters\n",
        "np.linalg.norm(df.loc['GKM230'], ord = 2 )"
      ]
    },
    {
      "cell_type": "code",
      "source": [
        "df.loc['GKM230']"
      ],
      "metadata": {
        "colab": {
          "base_uri": "https://localhost:8080/"
        },
        "id": "RciwsMvKjQUi",
        "outputId": "c37c887e-a44f-486b-f701-291ea714c4be"
      },
      "id": "RciwsMvKjQUi",
      "execution_count": 15,
      "outputs": [
        {
          "output_type": "execute_result",
          "data": {
            "text/plain": [
              "Dettol       8.0\n",
              "Savlon       8.4\n",
              "Himalaya    10.7\n",
              "Lifebuoy     6.5\n",
              "Kaya         3.7\n",
              "Godrej       4.1\n",
              "Dabur        4.0\n",
              "Name: GKM230, dtype: float64"
            ]
          },
          "metadata": {},
          "execution_count": 15
        }
      ]
    },
    {
      "cell_type": "markdown",
      "source": [
        "##### Note: The default norm calculated by \"np.linalg.norm()\" is the L2 norm, that is the \"ord\" parameter is set to 2 by default"
      ],
      "metadata": {
        "id": "ql7SUV_n9172"
      },
      "id": "ql7SUV_n9172"
    },
    {
      "cell_type": "markdown",
      "source": [
        "![](https://miro.medium.com/max/1056/1*r6RXOl5FoSbY6urC9HjUcw.png)"
      ],
      "metadata": {
        "id": "suvegAY0bjyL"
      },
      "id": "suvegAY0bjyL"
    },
    {
      "cell_type": "code",
      "execution_count": 16,
      "id": "f6ac8f93",
      "metadata": {
        "id": "f6ac8f93",
        "outputId": "b71bb746-e8b8-4b7e-8d43-5988a23772e3",
        "colab": {
          "base_uri": "https://localhost:8080/"
        }
      },
      "outputs": [
        {
          "output_type": "execute_result",
          "data": {
            "text/plain": [
              "45.4"
            ]
          },
          "metadata": {},
          "execution_count": 16
        }
      ],
      "source": [
        "# Calculate the L1 norm of the row vector for the store with ID \"GKM230\" using \"np.linalg.norm()\"\n",
        "# Note: This time, specify \"ord = 1\" as one of the parameters\n",
        "np.linalg.norm(df.loc['GKM230'], ord=1)"
      ]
    },
    {
      "cell_type": "code",
      "execution_count": 17,
      "id": "97b9bd2b",
      "metadata": {
        "id": "97b9bd2b",
        "outputId": "26f50d1f-fb29-4ee8-dab3-91f5b85c1e53",
        "colab": {
          "base_uri": "https://localhost:8080/"
        }
      },
      "outputs": [
        {
          "output_type": "execute_result",
          "data": {
            "text/plain": [
              "14.07434262320583"
            ]
          },
          "metadata": {},
          "execution_count": 17
        }
      ],
      "source": [
        "# Calculate the L3 norm of the row vector for the store with ID \"GKM230\" using \"np.linalg.norm()\"\n",
        "# Note: This time, specify \"ord = 3\" as one of the parameters\n",
        "np.linalg.norm(df.loc['GKM230'], ord=3)"
      ]
    },
    {
      "cell_type": "code",
      "execution_count": 18,
      "id": "6044f353",
      "metadata": {
        "id": "6044f353",
        "outputId": "4455b0cf-6927-4c6c-e8e9-8ae43c471cd3",
        "colab": {
          "base_uri": "https://localhost:8080/"
        }
      },
      "outputs": [
        {
          "output_type": "execute_result",
          "data": {
            "text/plain": [
              "10.7"
            ]
          },
          "metadata": {},
          "execution_count": 18
        }
      ],
      "source": [
        "# Calculate the max norm of the row vector for the store with ID \"GKM230\" using \"np.linalg.norm()\"\n",
        "# Note: This time, specify \"ord = np.inf\" as one of the parameters\n",
        "np.linalg.norm(df.loc['GKM230'], ord=np.inf)"
      ]
    },
    {
      "cell_type": "markdown",
      "source": [
        "##### Note: For the remainder of this exercise, we will use the default (L2) norm for the sake of simplicity and consistency"
      ],
      "metadata": {
        "id": "63iVPUZW99DT"
      },
      "id": "63iVPUZW99DT"
    },
    {
      "cell_type": "code",
      "execution_count": 19,
      "id": "81e6c8a0",
      "metadata": {
        "id": "81e6c8a0",
        "outputId": "d629f355-ed98-491a-f6b9-65e5b8bb2480",
        "colab": {
          "base_uri": "https://localhost:8080/"
        }
      },
      "outputs": [
        {
          "output_type": "execute_result",
          "data": {
            "text/plain": [
              "26.075467397536713"
            ]
          },
          "metadata": {},
          "execution_count": 19
        }
      ],
      "source": [
        "# Calculate the norm of the row vector for the store with ID \"KTG143\" using \"np.linalg.norm()\"\n",
        "np.linalg.norm(df.loc['KTG143'])"
      ]
    },
    {
      "cell_type": "code",
      "execution_count": 20,
      "id": "055f3bf1",
      "metadata": {
        "id": "055f3bf1",
        "outputId": "03a059a0-9326-4836-b18a-8b42d1b1eb18",
        "colab": {
          "base_uri": "https://localhost:8080/"
        }
      },
      "outputs": [
        {
          "output_type": "execute_result",
          "data": {
            "text/plain": [
              "18.086182571233767"
            ]
          },
          "metadata": {},
          "execution_count": 20
        }
      ],
      "source": [
        "# Calculate the norm of the row vector for the store with ID \"OEP108\" using \"np.linalg.norm()\"\n",
        "np.linalg.norm(df.loc['OEP108'])"
      ]
    },
    {
      "cell_type": "code",
      "execution_count": 21,
      "id": "676a81c0",
      "metadata": {
        "id": "676a81c0",
        "outputId": "fe911e1b-bd40-4697-9965-2f2542fd8777",
        "colab": {
          "base_uri": "https://localhost:8080/"
        }
      },
      "outputs": [
        {
          "output_type": "execute_result",
          "data": {
            "text/plain": [
              "40.304714364451215"
            ]
          },
          "metadata": {},
          "execution_count": 21
        }
      ],
      "source": [
        "# Calculate the norm of the column vector for the sanitizer \"Himalaya\" using \"np.linalg.norm()\"\n",
        "np.linalg.norm(df['Himalaya'])"
      ]
    },
    {
      "cell_type": "code",
      "execution_count": 22,
      "id": "2c81b96a",
      "metadata": {
        "id": "2c81b96a",
        "outputId": "2291b832-6a57-485c-9c65-5bc8a647e3e1",
        "colab": {
          "base_uri": "https://localhost:8080/"
        }
      },
      "outputs": [
        {
          "output_type": "execute_result",
          "data": {
            "text/plain": [
              "19.444022217637997"
            ]
          },
          "metadata": {},
          "execution_count": 22
        }
      ],
      "source": [
        "# Calculate the norm of the column vector for the sanitizer \"Dabur\" using \"np.linalg.norm()\"\n",
        "np.linalg.norm(df['Dabur'])"
      ]
    },
    {
      "cell_type": "markdown",
      "source": [
        "#### Observations\n",
        "\n",
        "- Norms can be calculated using different orders ranging from 1, 2, 3, ... up to infinity\n",
        "- The default norm is the L2 norm, which is also the Euclidean distance, and hence equal to the magnitude of the vector\n",
        "- The magnitude of a vector (L2 norm) can be used as a measure of the strength of the values in that vector\n",
        "- The smaller the norm of a vector, the weaker the vector, and vice versa\n",
        "- The larger the norm of a vector, the stronger the vector, and vice versa"
      ],
      "metadata": {
        "id": "fS266PY5-Bxh"
      },
      "id": "fS266PY5-Bxh"
    },
    {
      "cell_type": "markdown",
      "source": [
        "## Task 4 - Print a sorted list of store IDs in terms of their sales of sanitizers"
      ],
      "metadata": {
        "id": "FfFRdZCB-JxH"
      },
      "id": "FfFRdZCB-JxH"
    },
    {
      "cell_type": "markdown",
      "source": [
        "- The norm of a vector indicates the strength of the values in that vector\n",
        "- The smaller the norm of a vector, the weaker the vector, and vice versa\n",
        "- The larger the norm of a vector, the stronger the vector, and vice versa\n",
        "- We can use the norms of row vectors as a measure of the overall sales value of different stores"
      ],
      "metadata": {
        "id": "F7wtTSfK-PsB"
      },
      "id": "F7wtTSfK-PsB"
    },
    {
      "cell_type": "code",
      "execution_count": 23,
      "id": "5f80f2aa",
      "metadata": {
        "id": "5f80f2aa"
      },
      "outputs": [],
      "source": [
        "# Calculate the norms of the row vectors for all 15 stores and sort them in descending order\n",
        "# Note: Use these norms as a measure of overall sales values of the different stores\n",
        "# Note: Store the resulting values in a Pandas Series with index as store IDs and name the series \"stores\"\n",
        "# Note: The \"index\" parameter of the series can be set as \"df.index\"\n",
        "# Note: You may need to specify the \"dtype\" parameter of the series as \"float64\" to avoid some warnings\n",
        "# Note: Use the \".sort_values()\" function with the \"ascending\" parameter set to \"False\"\n",
        "\n",
        "stores = pd.Series(index = df.index, dtype = 'float64')\n",
        "\n",
        "for store in df.index:\n",
        "    stores.loc[store] = np.linalg.norm(df.loc[store])\n",
        "stores = stores.sort_values(ascending = False)"
      ]
    },
    {
      "cell_type": "code",
      "execution_count": 24,
      "id": "3e07f366",
      "metadata": {
        "id": "3e07f366",
        "outputId": "600f4a54-4633-4b51-ebff-1b32dd6875eb",
        "colab": {
          "base_uri": "https://localhost:8080/"
        }
      },
      "outputs": [
        {
          "output_type": "execute_result",
          "data": {
            "text/plain": [
              "Store ID\n",
              "KTG143    26.075467\n",
              "FLJ843    21.870299\n",
              "JRB076    21.861381\n",
              "NGP835    20.833867\n",
              "CXF008    20.481211\n",
              "MRN637    20.475839\n",
              "DRH187    20.391175\n",
              "BGL198    18.952836\n",
              "IDT818    18.670565\n",
              "HRT117    18.415754\n",
              "GKM230    18.379336\n",
              "EWO651    18.362734\n",
              "OEP108    18.086183\n",
              "AMD463    17.759223\n",
              "LXM794    17.674275\n",
              "dtype: float64"
            ]
          },
          "metadata": {},
          "execution_count": 24
        }
      ],
      "source": [
        "# Print the \"stores\" series\n",
        "stores"
      ]
    },
    {
      "cell_type": "markdown",
      "source": [
        "#### Observations\n",
        "\n",
        "- The store with ID \"KTG143\" has the highest sales\n",
        "- The user with ID \"LXM794\" has the lowest sales"
      ],
      "metadata": {
        "id": "FiDSzcLo-VXX"
      },
      "id": "FiDSzcLo-VXX"
    },
    {
      "cell_type": "markdown",
      "source": [
        "## Task 5 - Print a sorted list of sanitizers in terms of their popularity\n",
        "\n",
        "- The norm of a vector indicates the strength of the values in that vector\n",
        "- The smaller the norm of a vector, the weaker the vector, and vice versa\n",
        "- The larger the norm of a vector, the stronger the vector, and vice versa\n",
        "- We can use the norms of column vectors as a measure of the overall sales of different sanitizers"
      ],
      "metadata": {
        "id": "XlrPLugH-iWX"
      },
      "id": "XlrPLugH-iWX"
    },
    {
      "cell_type": "code",
      "execution_count": 25,
      "id": "d24d56c2",
      "metadata": {
        "id": "d24d56c2"
      },
      "outputs": [],
      "source": [
        "# Calculate the norms of the column vectors for all 7 sanitizers and sort them in descending order\n",
        "# Note: Use these norms as a measure of overall sales values of the different sanitizers\n",
        "# Note: Store the resulting values in a Pandas Series with index as sanitizer names and name the series \"sanitizers\"\n",
        "# Note: The \"index\" parameter of the series can be set as \"df.columns\"\n",
        "# Note: You may need to specify the \"dtype\" parameter of the series as \"float64\" to avoid some warnings\n",
        "# Note: Use the \".sort_values()\" function with the \"ascending\" parameter set to \"False\"\n",
        "\n",
        "sanitizers = pd.Series(index = df.columns, dtype = 'float64')\n",
        "\n",
        "for sanitizer in sanitizers.index:\n",
        "    sanitizers.loc[sanitizer] = np.linalg.norm(df[sanitizer])\n",
        "\n",
        "sanitizers = sanitizers.sort_values(ascending = False)"
      ]
    },
    {
      "cell_type": "code",
      "execution_count": 26,
      "id": "7480b1d0",
      "metadata": {
        "id": "7480b1d0",
        "outputId": "b8afbed6-9a35-485b-ead7-a7a714c5d39f",
        "colab": {
          "base_uri": "https://localhost:8080/"
        }
      },
      "outputs": [
        {
          "output_type": "execute_result",
          "data": {
            "text/plain": [
              "Himalaya    40.304714\n",
              "Dettol      36.836938\n",
              "Savlon      31.292331\n",
              "Lifebuoy    30.055781\n",
              "Godrej      19.997750\n",
              "Dabur       19.444022\n",
              "Kaya        18.962858\n",
              "dtype: float64"
            ]
          },
          "metadata": {},
          "execution_count": 26
        }
      ],
      "source": [
        "# Print the \"sanitizers\" series\n",
        "sanitizers"
      ]
    },
    {
      "cell_type": "markdown",
      "source": [
        "#### Observations\n",
        "\n",
        "- The most popular sanitizer is \"Himalaya\"\n",
        "- The least popular sanitizer is \"Kaya\""
      ],
      "metadata": {
        "id": "gdOuIDq2-5eG"
      },
      "id": "gdOuIDq2-5eG"
    },
    {
      "cell_type": "markdown",
      "source": [
        "## Task 6 - Create a function to calculate the norm of the difference of two vectors"
      ],
      "metadata": {
        "id": "vI4-e8LY_R__"
      },
      "id": "vI4-e8LY_R__"
    },
    {
      "cell_type": "markdown",
      "source": [
        "\n",
        "- The norm of the difference between two vectors can be used as a similarity measure between those two vectors\n",
        "- The smaller the norm of the difference vector, the more similar the two original vectors, and vice versa\n",
        "- The larger the norm of the difference vector, the more dissimilar the two original vectors, and vice versa"
      ],
      "metadata": {
        "id": "b3p-7okP_WBv"
      },
      "id": "b3p-7okP_WBv"
    },
    {
      "cell_type": "code",
      "execution_count": 27,
      "id": "5344bfc9",
      "metadata": {
        "id": "5344bfc9"
      },
      "outputs": [],
      "source": [
        "# Create a function called \"sim()\" which takes in two vectors and returns similarity score between them\n",
        "# Note: Use the \"np.linalg.norm()\" method on the difference of the two vectors to calculate their similarity\n",
        "# Note: The order in which the vectors are subtracted does not matter\n",
        "\n",
        "def sim(vec1, vec2):\n",
        "    vec = vec1 - vec2\n",
        "    norm =  np.linalg.norm(vec)\n",
        "    return norm"
      ]
    },
    {
      "cell_type": "code",
      "execution_count": 28,
      "id": "d86a1e1d",
      "metadata": {
        "id": "d86a1e1d",
        "outputId": "3efc456f-2beb-486b-9647-2344b24a6ceb",
        "colab": {
          "base_uri": "https://localhost:8080/"
        }
      },
      "outputs": [
        {
          "output_type": "execute_result",
          "data": {
            "text/plain": [
              "5.175905717843014"
            ]
          },
          "metadata": {},
          "execution_count": 28
        }
      ],
      "source": [
        "# Calculate the similarity between the sales of the stores with IDs \"AMD463\" and \"HRT117\" using the function \"sim()\"\n",
        "sim(df.loc['AMD463'], df.loc['HRT117'])"
      ]
    },
    {
      "cell_type": "code",
      "execution_count": 29,
      "id": "3d9e8c54",
      "metadata": {
        "id": "3d9e8c54",
        "outputId": "612f9229-eb33-4197-cafb-0d3fdaf9d004",
        "colab": {
          "base_uri": "https://localhost:8080/"
        }
      },
      "outputs": [
        {
          "output_type": "execute_result",
          "data": {
            "text/plain": [
              "6.040695324215581"
            ]
          },
          "metadata": {},
          "execution_count": 29
        }
      ],
      "source": [
        "# Calculate the similarity between the sales of the stores with IDs \"NGP835\" and \"GKM230\" using the function \"sim()\"\n",
        "sim(df.loc['NGP835'], df.loc['GKM230'])"
      ]
    },
    {
      "cell_type": "code",
      "execution_count": 30,
      "id": "691104f4",
      "metadata": {
        "id": "691104f4",
        "outputId": "5d830427-addc-4db7-ad1c-c71f3d2b20c8",
        "colab": {
          "base_uri": "https://localhost:8080/"
        }
      },
      "outputs": [
        {
          "output_type": "execute_result",
          "data": {
            "text/plain": [
              "14.395138068111747"
            ]
          },
          "metadata": {},
          "execution_count": 30
        }
      ],
      "source": [
        "# Calculate the similarity between the sales of the sanitizers \"Lifebuoy\" and \"Himalaya\" using the function \"sim()\"\n",
        "sim(df['Lifebuoy'], df['Himalaya'])"
      ]
    },
    {
      "cell_type": "code",
      "execution_count": 31,
      "id": "c9c8a3a9",
      "metadata": {
        "id": "c9c8a3a9",
        "outputId": "c6e1d5fe-c1b8-47d5-d95e-ef0d0f9c6ca9",
        "colab": {
          "base_uri": "https://localhost:8080/"
        }
      },
      "outputs": [
        {
          "output_type": "execute_result",
          "data": {
            "text/plain": [
              "22.269036800005516"
            ]
          },
          "metadata": {},
          "execution_count": 31
        }
      ],
      "source": [
        "# Calculate the similarity between the sales of the sanitizers \"Dettol\" and \"Godrej\" using the function \"sim()\"\n",
        "sim(df['Dettol'], df['Godrej'])"
      ]
    },
    {
      "cell_type": "code",
      "execution_count": 43,
      "id": "b614fb2c",
      "metadata": {
        "id": "b614fb2c",
        "outputId": "70d9d4ba-df3c-4469-ad38-a34727eced64",
        "colab": {
          "base_uri": "https://localhost:8080/"
        }
      },
      "outputs": [
        {
          "output_type": "execute_result",
          "data": {
            "text/plain": [
              "0.0"
            ]
          },
          "metadata": {},
          "execution_count": 43
        }
      ],
      "source": [
        "# Calculate the similarity between the sales of the store with ID \"JRB076\" and itself using the function \"sim()\"\n",
        "sim(df.loc['JRB076'], df.loc['JRB076'])"
      ]
    },
    {
      "cell_type": "markdown",
      "source": [
        "#### Observations\n",
        "\n",
        "- The norm of the difference between two vectors can be used as a similarity measure between those two vectors\n",
        "- The norm of the difference between a vector and itself is 0\n",
        "- The smaller the norm of the difference between two vectors, the higher their similarity score, and vice versa\n",
        "- The larger the norm of the difference between two vectors, the lower their similarity score, and vice versa"
      ],
      "metadata": {
        "id": "MF-wCrkD_aoH"
      },
      "id": "MF-wCrkD_aoH"
    },
    {
      "cell_type": "markdown",
      "source": [
        "## Task 7 - Create a function that returns the ID of the store with the most similar sales as a given store"
      ],
      "metadata": {
        "id": "XrtayNll_fz0"
      },
      "id": "XrtayNll_fz0"
    },
    {
      "cell_type": "markdown",
      "source": [
        "- The norm of the difference between two vectors can be used as a similarity measure between those two vectors\n",
        "- The smaller the norm of the difference between two vectors, the higher their similarity score, and vice versa\n",
        "- The larger the norm of the difference between two vectors, the lower their similarity score, and vice versa\n",
        "- We will create a function that returns the ID of the store with the most similar sales as a given store"
      ],
      "metadata": {
        "id": "vlBhrgUA_j3V"
      },
      "id": "vlBhrgUA_j3V"
    },
    {
      "cell_type": "markdown",
      "source": [
        "![](https://datascience-enthusiast.com/figures/cosine_sim.png)\n"
      ],
      "metadata": {
        "id": "MJlgvCbe1g3l"
      },
      "id": "MJlgvCbe1g3l"
    },
    {
      "cell_type": "code",
      "execution_count": 44,
      "id": "34e7596a",
      "metadata": {
        "id": "34e7596a"
      },
      "outputs": [],
      "source": [
        "# Define a function \"storesim()\" that takes in the ID of a store and returns the ID of the store with the most similar sales\n",
        "# Note: Use the \"sim()\" function to measure similarities between stores (using their row vectors)\n",
        "# Note: You may create a temporary Pandas Series within the \"storesim()\" function to store the similarity values\n",
        "# Note: The \"index\" parameter of the series can be set as \"df.index\"\n",
        "# Note: You may need to specify the \"dtype\" parameter of the series as \"float64\" to avoid some warnings\n",
        "# Note: You may sort the entries in this series and return the second index entry\n",
        "# Note: Use the \".sort_values()\" function with the default value for the \"ascending\" parameter, which is \"True\"\n",
        "# Note: The first entry after sorting will be trivial\n",
        "\n",
        "def storesim(store1):\n",
        "    temp = pd.Series(index = df.index, dtype='float64')\n",
        "    for store2 in temp.index:\n",
        "      temp.loc[store2] = sim(df.loc[store1], df.loc[store2])\n",
        "    return (temp.sort_values().index[1])"
      ]
    },
    {
      "cell_type": "code",
      "execution_count": 49,
      "id": "73a542f3",
      "metadata": {
        "id": "73a542f3",
        "outputId": "3ca585fa-520f-4e2d-b01f-2961fe1981a2",
        "colab": {
          "base_uri": "https://localhost:8080/",
          "height": 36
        }
      },
      "outputs": [
        {
          "output_type": "execute_result",
          "data": {
            "text/plain": [
              "'EWO651'"
            ],
            "application/vnd.google.colaboratory.intrinsic+json": {
              "type": "string"
            }
          },
          "metadata": {},
          "execution_count": 49
        }
      ],
      "source": [
        "# Use the function \"storesim()\" to find the ID of the store whose sales are most similar to the store with ID \"AMD463\"\n",
        "storesim('AMD463')"
      ]
    },
    {
      "cell_type": "code",
      "execution_count": 46,
      "id": "0f9274aa",
      "metadata": {
        "id": "0f9274aa",
        "outputId": "9772b7c9-bc65-43d5-980d-6c2044e8e67d",
        "colab": {
          "base_uri": "https://localhost:8080/",
          "height": 36
        }
      },
      "outputs": [
        {
          "output_type": "execute_result",
          "data": {
            "text/plain": [
              "'HRT117'"
            ],
            "application/vnd.google.colaboratory.intrinsic+json": {
              "type": "string"
            }
          },
          "metadata": {},
          "execution_count": 46
        }
      ],
      "source": [
        "# Use the function \"storesim()\" to find the ID of the store whose sales are most similar to the store with ID \"NGP835\"\n",
        "storesim('NGP835')"
      ]
    },
    {
      "cell_type": "code",
      "execution_count": 47,
      "id": "091d42a9",
      "metadata": {
        "id": "091d42a9",
        "outputId": "8ccf2c19-3867-40cd-9494-6492fa8cc1f8",
        "colab": {
          "base_uri": "https://localhost:8080/",
          "height": 36
        }
      },
      "outputs": [
        {
          "output_type": "execute_result",
          "data": {
            "text/plain": [
              "'BGL198'"
            ],
            "application/vnd.google.colaboratory.intrinsic+json": {
              "type": "string"
            }
          },
          "metadata": {},
          "execution_count": 47
        }
      ],
      "source": [
        "# Use the function \"storesim()\" to find the ID of the store whose sales are most similar to the store with ID \"CXF008\"\n",
        "storesim('CXF008')"
      ]
    },
    {
      "cell_type": "code",
      "execution_count": 48,
      "id": "a15ccfa1",
      "metadata": {
        "id": "a15ccfa1",
        "outputId": "17842a49-71ee-41a5-fc82-81685a8c1c56",
        "colab": {
          "base_uri": "https://localhost:8080/",
          "height": 36
        }
      },
      "outputs": [
        {
          "output_type": "execute_result",
          "data": {
            "text/plain": [
              "'GKM230'"
            ],
            "application/vnd.google.colaboratory.intrinsic+json": {
              "type": "string"
            }
          },
          "metadata": {},
          "execution_count": 48
        }
      ],
      "source": [
        "# Use the function \"storesim()\" to find the ID of the store whose sales are most similar to the store with ID \"BGL198\"\n",
        "storesim('BGL198')"
      ]
    },
    {
      "cell_type": "markdown",
      "source": [
        "#### Observations\n",
        "\n",
        "- The norm of the difference between row vectors is a measure of similarity between the sales in different stores\n",
        "- The similarity score is not symmetric\n",
        "- Rather it pertains to a specific case (such as a specific store)\n",
        "- This is because it is possible for X to be most similar to Y and Y to be most similar to Z\n",
        "- This happens when X and Z are not as similar to each other as X and Y or Y and Z\n",
        "- Transitivity, on the other hand, is a useful assumption for further analysis"
      ],
      "metadata": {
        "id": "5nilEWtW_pVD"
      },
      "id": "5nilEWtW_pVD"
    },
    {
      "cell_type": "markdown",
      "source": [
        "## Task 8 - Create a function that returns the name of a sanitizer with the most similar sales as a given sanitizer"
      ],
      "metadata": {
        "id": "ST5Jbow9_vOz"
      },
      "id": "ST5Jbow9_vOz"
    },
    {
      "cell_type": "markdown",
      "source": [
        "- The norm of the difference between two vectors can be used as a similarity measure between those two vectors\n",
        "- The smaller the norm of the difference between two vectors, the higher their similarity score, and vice versa\n",
        "- The larger the norm of the difference between two vectors, the lower their similarity score, and vice versa\n",
        "- We will create a function that returns the name of the sanitizer whose sales are most similar to a given sanitizer"
      ],
      "metadata": {
        "id": "ffXLZUrE_zR5"
      },
      "id": "ffXLZUrE_zR5"
    },
    {
      "cell_type": "code",
      "execution_count": 61,
      "id": "49071b40",
      "metadata": {
        "id": "49071b40"
      },
      "outputs": [],
      "source": [
        "# Define a function \"sanisim()\" that takes in the name of a sanitizer and returns sanitizer name with the most similar sales\n",
        "# Note: Use the \"sim()\" function to measure similarities between sanitizers (using their column vectors)\n",
        "# Note: You may create a temporary Pandas Series within the \"sanisim()\" function to store the similarity values\n",
        "# Note: The \"index\" parameter of the series can be set as \"df.columns\"\n",
        "# Note: You may need to specify the \"dtype\" parameter of the series as \"float64\" to avoid some warnings\n",
        "# Note: You may sort the entries in this series and return the second index entry\n",
        "# Note: Use the \".sort_values()\" function with the default value for the \"ascending\" parameter, which is \"True\"\n",
        "# Note: The first entry after sorting will be trivial\n",
        "\n",
        "def sanisim(sani1):\n",
        "    temp = pd.Series(index = df.columns, dtype = 'float64')\n",
        "    for sani2 in temp.index:\n",
        "      temp.loc[sani2] = sim(df[sani1], df[sani2])\n",
        "    return temp.sort_values().index[1]"
      ]
    },
    {
      "cell_type": "code",
      "execution_count": 62,
      "id": "5479900e",
      "metadata": {
        "id": "5479900e",
        "outputId": "28a23852-ff60-41a7-f900-8e1f494cfb42",
        "colab": {
          "base_uri": "https://localhost:8080/",
          "height": 36
        }
      },
      "outputs": [
        {
          "output_type": "execute_result",
          "data": {
            "text/plain": [
              "'Kaya'"
            ],
            "application/vnd.google.colaboratory.intrinsic+json": {
              "type": "string"
            }
          },
          "metadata": {},
          "execution_count": 62
        }
      ],
      "source": [
        "# Use the function \"sanisim()\" to find the name of the sanitizer whose sales are most similar to the sanitizer \"Godrej\"\n",
        "sanisim('Godrej')"
      ]
    },
    {
      "cell_type": "code",
      "execution_count": 63,
      "id": "bf16350c",
      "metadata": {
        "id": "bf16350c",
        "outputId": "3e9a470a-00ca-4f3e-db8c-343f775b9361",
        "colab": {
          "base_uri": "https://localhost:8080/",
          "height": 36
        }
      },
      "outputs": [
        {
          "output_type": "execute_result",
          "data": {
            "text/plain": [
              "'Kaya'"
            ],
            "application/vnd.google.colaboratory.intrinsic+json": {
              "type": "string"
            }
          },
          "metadata": {},
          "execution_count": 63
        }
      ],
      "source": [
        "# Use the function \"sanisim()\" to find the name of the sanitizer whose sales are most similar to the sanitizer \"Dabur\"\n",
        "\n",
        "sanisim('Dabur')"
      ]
    },
    {
      "cell_type": "code",
      "execution_count": 64,
      "id": "84e85fe1",
      "metadata": {
        "id": "84e85fe1",
        "outputId": "e346216b-4bb8-4c18-9f79-88e7a0179ce5",
        "colab": {
          "base_uri": "https://localhost:8080/",
          "height": 36
        }
      },
      "outputs": [
        {
          "output_type": "execute_result",
          "data": {
            "text/plain": [
              "'Dettol'"
            ],
            "application/vnd.google.colaboratory.intrinsic+json": {
              "type": "string"
            }
          },
          "metadata": {},
          "execution_count": 64
        }
      ],
      "source": [
        "# Use the function \"sanisim()\" to find the name of the sanitizer whose sales are most similar to the sanitizer \"Himalaya\"\n",
        "\n",
        "sanisim('Himalaya')"
      ]
    },
    {
      "cell_type": "code",
      "execution_count": 65,
      "id": "582beb69",
      "metadata": {
        "id": "582beb69",
        "outputId": "b5e2569e-e676-484c-a203-bed5d9ea6c57",
        "colab": {
          "base_uri": "https://localhost:8080/",
          "height": 36
        }
      },
      "outputs": [
        {
          "output_type": "execute_result",
          "data": {
            "text/plain": [
              "'Lifebuoy'"
            ],
            "application/vnd.google.colaboratory.intrinsic+json": {
              "type": "string"
            }
          },
          "metadata": {},
          "execution_count": 65
        }
      ],
      "source": [
        "# Use the function \"sanisim()\" to find the name of the sanitizer whose sales are most similar to the sanitizer \"Dettol\"\n",
        "\n",
        "sanisim('Dettol')"
      ]
    },
    {
      "cell_type": "markdown",
      "source": [
        "#### Observations\n",
        "\n",
        "- The norm of the difference between column vectors is a measure of similarity between the sales of different sanitizers\n",
        "- The similarity score is not symmetric\n",
        "- Rather it pertains to a specific case (such as a specific sanitizer)\n",
        "- This is because it is possible for X to be most similar to Y and Y to be most similar to Z\n",
        "- This happens when X and Z are not as similar to each other as X and Y or Y and Z\n",
        "- Transitivity, on the other hand, is a useful assumption for further analysis"
      ],
      "metadata": {
        "id": "tQ5Hhb4j_7QP"
      },
      "id": "tQ5Hhb4j_7QP"
    },
    {
      "cell_type": "markdown",
      "source": [
        "#### Conclusions\n",
        "\n",
        "- From the sales data, we can extract row vectors (sales of a store) and column vectors (sales of a sanitizer)\n",
        "- We can use norms of row vectors for particular stores to measure their overall sales\n",
        "- We can use norms of column vectors for particular sanitizers to measure their popularity\n",
        "- We can use the norm of the difference between row vectors of two stores to measure the similarity in their sales\n",
        "- We can use the norm of the difference between column vectors of two sanitizers to measure the similarity\n",
        "- Using these measures, we can recommend decisions to certain stores about which sanitizers to sell more of and less of\n",
        "- This is a very basic look into the working methodology of sales similarity analysis"
      ],
      "metadata": {
        "id": "qJnlS3v9AC0q"
      },
      "id": "qJnlS3v9AC0q"
    }
  ],
  "metadata": {
    "kernelspec": {
      "display_name": "Python 3",
      "language": "python",
      "name": "python3"
    },
    "language_info": {
      "codemirror_mode": {
        "name": "ipython",
        "version": 3
      },
      "file_extension": ".py",
      "mimetype": "text/x-python",
      "name": "python",
      "nbconvert_exporter": "python",
      "pygments_lexer": "ipython3",
      "version": "3.8.8"
    },
    "colab": {
      "provenance": [],
      "collapsed_sections": []
    }
  },
  "nbformat": 4,
  "nbformat_minor": 5
}