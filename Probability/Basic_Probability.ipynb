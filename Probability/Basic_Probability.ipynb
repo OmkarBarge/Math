{
  "nbformat": 4,
  "nbformat_minor": 0,
  "metadata": {
    "colab": {
      "provenance": [],
      "collapsed_sections": []
    },
    "kernelspec": {
      "name": "python3",
      "display_name": "Python 3"
    },
    "language_info": {
      "name": "python"
    }
  },
  "cells": [
    {
      "cell_type": "code",
      "execution_count": null,
      "metadata": {
        "colab": {
          "base_uri": "https://localhost:8080/"
        },
        "id": "IIyoZ49W8cqK",
        "outputId": "11abb866-9c8f-4a60-ce47-95240bef890a"
      },
      "outputs": [
        {
          "output_type": "stream",
          "name": "stdout",
          "text": [
            "No.of trials : 5, p(6) : 0.2 => 20.0%\n",
            "No.of trials : 10, p(6) : 0.4 => 40.0%\n",
            "No.of trials : 100, p(6) : 0.18 => 18.0%\n",
            "No.of trials : 1000, p(6) : 0.164 => 16.400000000000002%\n",
            "No.of trials : 10000, p(6) : 0.1715 => 17.150000000000002%\n",
            "No.of trials : 100000, p(6) : 0.16673 => 16.673%\n",
            "No.of trials : 1000000, p(6) : 0.166058 => 16.605800000000002%\n"
          ]
        }
      ],
      "source": [
        "# likelihood of 6 occurs while dice thrown i times\n",
        "\n",
        "import random\n",
        "\n",
        "#fair dice throws\n",
        "#throw dice i times\n",
        "\n",
        "for i in [5, 10, 100, 1000, 10000, 100000, 1000000]:\n",
        "\n",
        "  six_occurs = 0\n",
        "  throws = int(i)\n",
        "\n",
        "  for j in range(throws):\n",
        "\n",
        "    #random number generator\n",
        "    six_occurs += int(random.randint(1,6)==6)\n",
        "\n",
        "  print('No.of trials : {}, p(6) : {} => {}%'.format(throws,six_occurs/throws,(six_occurs/throws)*100))"
      ]
    },
    {
      "cell_type": "code",
      "source": [
        "#A has a bag with 3 red and 2 blue balls.he randomly draws a marble from the bag 300 times.After drawing each marble he put it back into the bag.\n",
        "#How many times do you think he will draw a blue balls?\n",
        "\n",
        "\n",
        "ball = ['blue','blue','red','red','red']\n",
        "\n",
        "blue_occurs = 0\n",
        "throw = 300\n",
        "count = 0\n",
        "\n",
        "for k in range(throw):\n",
        "    b = int(random.choice(ball) == 'blue')\n",
        "  # blue_occurs += int(random.choice(ball) == 'blue')\n",
        "    blue_occurs += b\n",
        "    if b == 1:\n",
        "      count+=1\n",
        "\n",
        "print('No of trails : {}, P(Blue) : {} => {}%'.format(throw, blue_occurs/throw, (blue_occurs/throw)*100))\n",
        "\n",
        "print()\n",
        "\n",
        "print(f'{count} times he will draw a blue ball with the probablity of {blue_occurs/throw}')"
      ],
      "metadata": {
        "colab": {
          "base_uri": "https://localhost:8080/"
        },
        "id": "Ywk83ZP19rb9",
        "outputId": "32761112-e87b-4297-fec6-0d5e845f87fd"
      },
      "execution_count": null,
      "outputs": [
        {
          "output_type": "stream",
          "name": "stdout",
          "text": [
            "No of trails : 300, P(Blue) : 0.3933333333333333 => 39.33333333333333%\n",
            "\n",
            "118 times he will draw a blue ball with the probablity of 0.3933333333333333\n"
          ]
        }
      ]
    }
  ]
}